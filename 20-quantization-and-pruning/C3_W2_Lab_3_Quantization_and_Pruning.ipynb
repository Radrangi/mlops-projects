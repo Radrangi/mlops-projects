{
  "nbformat": 4,
  "nbformat_minor": 0,
  "metadata": {
    "colab": {
      "provenance": []
    },
    "kernelspec": {
      "name": "python3",
      "display_name": "Python 3"
    },
    "language_info": {
      "name": "python"
    }
  },
  "cells": [
    {
      "cell_type": "markdown",
      "metadata": {
        "id": "D3-cg2_rYfe6"
      },
      "source": [
        "# Ungraded Lab: Quantization and Pruning\n",
        "\n",
        "In this lab, you will get some hands-on practice with the mobile optimization techniques discussed in the lectures. These enable reduced model size and latency which makes it ideal for edge and IOT devices. You will start by training a Keras model then compare its model size and accuracy after going through these techniques:\n",
        "\n",
        "* post-training quantization\n",
        "* quantization aware training\n",
        "* weight pruning\n",
        "\n",
        "Let's begin!"
      ]
    },
    {
      "cell_type": "markdown",
      "metadata": {
        "id": "0gRaAOIsba55"
      },
      "source": [
        "## Imports"
      ]
    },
    {
      "cell_type": "markdown",
      "metadata": {
        "id": "4nVRm10UNHZ9"
      },
      "source": [
        "Let's first import a few common libraries that you'll be using throughout the notebook."
      ]
    },
    {
      "cell_type": "code",
      "metadata": {
        "id": "9sL5kmRZbZxX"
      },
      "source": [
        "import tensorflow as tf\n",
        "import numpy as np\n",
        "import os\n",
        "import tempfile\n",
        "import zipfile"
      ],
      "execution_count": 1,
      "outputs": []
    },
    {
      "cell_type": "markdown",
      "metadata": {
        "id": "GS5gXwABm7XP"
      },
      "source": [
        "<a name='utilities'>\n",
        "\n",
        "## Utilities and constants\n",
        "\n",
        "Let's first define a few string constants and utility functions to make our code easier to maintain."
      ]
    },
    {
      "cell_type": "code",
      "metadata": {
        "id": "nEuiXyPZMKQm"
      },
      "source": [
        "# GLOBAL VARIABLES\n",
        "\n",
        "# String constants for model filenames\n",
        "FILE_WEIGHTS = 'baseline_weights.h5'\n",
        "FILE_NON_QUANTIZED_H5 = 'non_quantized.h5'\n",
        "FILE_NON_QUANTIZED_TFLITE = 'non_quantized.tflite'\n",
        "FILE_PT_QUANTIZED = 'post_training_quantized.tflite'\n",
        "FILE_QAT_QUANTIZED = 'quant_aware_quantized.tflite'\n",
        "FILE_PRUNED_MODEL_H5 = 'pruned_model.h5'\n",
        "FILE_PRUNED_QUANTIZED_TFLITE = 'pruned_quantized.tflite'\n",
        "FILE_PRUNED_NON_QUANTIZED_TFLITE = 'pruned_non_quantized.tflite'\n",
        "\n",
        "# Dictionaries to hold measurements\n",
        "MODEL_SIZE = {}\n",
        "ACCURACY = {}"
      ],
      "execution_count": 2,
      "outputs": []
    },
    {
      "cell_type": "code",
      "metadata": {
        "id": "pqdSGWccdk8G"
      },
      "source": [
        "# UTILITY FUNCTIONS\n",
        "\n",
        "def print_metric(metric_dict, metric_name):\n",
        "  '''Prints key and values stored in a dictionary'''\n",
        "  for metric, value in metric_dict.items():\n",
        "    print(f'{metric_name} for {metric}: {value}')\n",
        "\n",
        "\n",
        "def model_builder():\n",
        "  '''Returns a shallow CNN for training on the MNIST dataset'''\n",
        "\n",
        "  keras = tf.keras\n",
        "\n",
        "  # Define the model architecture.\n",
        "  model = keras.Sequential([\n",
        "    keras.layers.InputLayer(input_shape=(28, 28)),\n",
        "    keras.layers.Reshape(target_shape=(28, 28, 1)),\n",
        "    keras.layers.Conv2D(filters=12, kernel_size=(3, 3), activation='relu'),\n",
        "    keras.layers.MaxPooling2D(pool_size=(2, 2)),\n",
        "    keras.layers.Flatten(),\n",
        "    keras.layers.Dense(10, activation='softmax')\n",
        "  ])\n",
        "\n",
        "  return model\n",
        "\n",
        "\n",
        "def evaluate_tflite_model(filename, x_test, y_test):\n",
        "  '''\n",
        "  Measures the accuracy of a given TF Lite model and test set\n",
        "\n",
        "  Args:\n",
        "    filename (string) - filename of the model to load\n",
        "    x_test (numpy array) - test images\n",
        "    y_test (numpy array) - test labels\n",
        "\n",
        "  Returns\n",
        "    float showing the accuracy against the test set\n",
        "  '''\n",
        "\n",
        "  # Initialize the TF Lite Interpreter and allocate tensors\n",
        "  interpreter = tf.lite.Interpreter(model_path=filename)\n",
        "  interpreter.allocate_tensors()\n",
        "\n",
        "  # Get input and output index\n",
        "  input_index = interpreter.get_input_details()[0][\"index\"]\n",
        "  output_index = interpreter.get_output_details()[0][\"index\"]\n",
        "\n",
        "  # Initialize empty predictions list\n",
        "  prediction_digits = []\n",
        "\n",
        "  # Run predictions on every image in the \"test\" dataset.\n",
        "  for i, test_image in enumerate(x_test):\n",
        "    # Pre-processing: add batch dimension and convert to float32 to match with\n",
        "    # the model's input data format.\n",
        "    test_image = np.expand_dims(test_image, axis=0).astype(np.float32)\n",
        "    interpreter.set_tensor(input_index, test_image)\n",
        "\n",
        "    # Run inference.\n",
        "    interpreter.invoke()\n",
        "\n",
        "    # Post-processing: remove batch dimension and find the digit with highest\n",
        "    # probability.\n",
        "    output = interpreter.tensor(output_index)\n",
        "    digit = np.argmax(output()[0])\n",
        "    prediction_digits.append(digit)\n",
        "\n",
        "  # Compare prediction results with ground truth labels to calculate accuracy.\n",
        "  prediction_digits = np.array(prediction_digits)\n",
        "  accuracy = (prediction_digits == y_test).mean()\n",
        "\n",
        "  return accuracy\n",
        "\n",
        "\n",
        "def get_gzipped_model_size(file):\n",
        "  '''Returns size of gzipped model, in bytes.'''\n",
        "  _, zipped_file = tempfile.mkstemp('.zip')\n",
        "  with zipfile.ZipFile(zipped_file, 'w', compression=zipfile.ZIP_DEFLATED) as f:\n",
        "    f.write(file)\n",
        "\n",
        "  return os.path.getsize(zipped_file)"
      ],
      "execution_count": 3,
      "outputs": []
    },
    {
      "cell_type": "markdown",
      "metadata": {
        "id": "AxnjOqLpYawi"
      },
      "source": [
        "## Download and Prepare the Dataset"
      ]
    },
    {
      "cell_type": "markdown",
      "metadata": {
        "id": "rfC0D71tnVKr"
      },
      "source": [
        "You will be using the [MNIST](https://keras.io/api/datasets/mnist/) dataset which is hosted in [Keras Datasets](https://keras.io/api/datasets/). Some of the helper files in this notebook are made to work with this dataset so if you decide to switch to a different dataset, make sure to check if those helper functions need to be modified (e.g. shape of the Flatten layer in your model)."
      ]
    },
    {
      "cell_type": "code",
      "metadata": {
        "id": "Z5f5Y08r0sob",
        "colab": {
          "base_uri": "https://localhost:8080/"
        },
        "outputId": "b90af6f6-828b-49e0-e1f6-4c33a10df4cf"
      },
      "source": [
        "# Load MNIST dataset\n",
        "mnist = tf.keras.datasets.mnist\n",
        "(train_images, train_labels), (test_images, test_labels) = mnist.load_data()\n",
        "\n",
        "# Normalize the input image so that each pixel value is between 0 to 1.\n",
        "train_images = train_images / 255.0\n",
        "test_images = test_images / 255.0"
      ],
      "execution_count": 4,
      "outputs": [
        {
          "output_type": "stream",
          "name": "stdout",
          "text": [
            "Downloading data from https://storage.googleapis.com/tensorflow/tf-keras-datasets/mnist.npz\n",
            "11490434/11490434 [==============================] - 0s 0us/step\n"
          ]
        }
      ]
    },
    {
      "cell_type": "markdown",
      "metadata": {
        "id": "Czvt9P1EYnQT"
      },
      "source": [
        "## Baseline Model\n",
        "\n",
        "You will first build and train a Keras model. This will be the baseline where you will be comparing the mobile optimized versions later on. This will just be a shallow CNN with a softmax output to classify a given MNIST digit. You can review the `model_builder()` function in the utilities at the top of this notebook but we also printed the model summary below to show the architecture.\n",
        "\n",
        "You will also save the weights so you can reinitialize the other models later the same way. This is not needed in real projects but for this demo notebook, it would be good to have the same initial state later so you can compare the effects of the optimizations."
      ]
    },
    {
      "cell_type": "code",
      "metadata": {
        "id": "3Ild5juYXu4j",
        "colab": {
          "base_uri": "https://localhost:8080/"
        },
        "outputId": "867d4616-21ee-4982-9e1f-d591c23cd215"
      },
      "source": [
        "# Create the baseline model\n",
        "baseline_model = model_builder()\n",
        "\n",
        "# Save the initial weights for use later\n",
        "baseline_model.save_weights(FILE_WEIGHTS)\n",
        "\n",
        "# Print the model summary\n",
        "baseline_model.summary()"
      ],
      "execution_count": 5,
      "outputs": [
        {
          "output_type": "stream",
          "name": "stdout",
          "text": [
            "Model: \"sequential\"\n",
            "_________________________________________________________________\n",
            " Layer (type)                Output Shape              Param #   \n",
            "=================================================================\n",
            " reshape (Reshape)           (None, 28, 28, 1)         0         \n",
            "                                                                 \n",
            " conv2d (Conv2D)             (None, 26, 26, 12)        120       \n",
            "                                                                 \n",
            " max_pooling2d (MaxPooling2  (None, 13, 13, 12)        0         \n",
            " D)                                                              \n",
            "                                                                 \n",
            " flatten (Flatten)           (None, 2028)              0         \n",
            "                                                                 \n",
            " dense (Dense)               (None, 10)                20290     \n",
            "                                                                 \n",
            "=================================================================\n",
            "Total params: 20410 (79.73 KB)\n",
            "Trainable params: 20410 (79.73 KB)\n",
            "Non-trainable params: 0 (0.00 Byte)\n",
            "_________________________________________________________________\n"
          ]
        }
      ]
    },
    {
      "cell_type": "markdown",
      "metadata": {
        "id": "74y6LJMVYRCL"
      },
      "source": [
        "You can then compile and train the model. In practice, it's best to shuffle the train set but for this demo, it is set to `False` for reproducibility of the results. One epoch below will reach around 91% accuracy."
      ]
    },
    {
      "cell_type": "code",
      "metadata": {
        "id": "xViB61FuY0Pf",
        "colab": {
          "base_uri": "https://localhost:8080/"
        },
        "outputId": "b3613180-3907-4fda-fbff-d525f56309b2"
      },
      "source": [
        "# Setup the model for training\n",
        "baseline_model.compile(optimizer='adam',\n",
        "              loss='sparse_categorical_crossentropy',\n",
        "              metrics=['accuracy'])\n",
        "\n",
        "# Train the model\n",
        "baseline_model.fit(train_images, train_labels, epochs=1, shuffle=False)"
      ],
      "execution_count": 6,
      "outputs": [
        {
          "output_type": "stream",
          "name": "stdout",
          "text": [
            "1875/1875 [==============================] - 22s 11ms/step - loss: 0.2772 - accuracy: 0.9223\n"
          ]
        },
        {
          "output_type": "execute_result",
          "data": {
            "text/plain": [
              "<keras.src.callbacks.History at 0x78a0e4970970>"
            ]
          },
          "metadata": {},
          "execution_count": 6
        }
      ]
    },
    {
      "cell_type": "markdown",
      "metadata": {
        "id": "47BgpWwOaR8b"
      },
      "source": [
        "Let's save the accuracy of the model against the test set so you can compare later."
      ]
    },
    {
      "cell_type": "code",
      "metadata": {
        "id": "JQSVh1_t4Z2h",
        "colab": {
          "base_uri": "https://localhost:8080/"
        },
        "outputId": "99f01f48-61cb-4799-f6ed-34745e8dd6b5"
      },
      "source": [
        "# Get the baseline accuracy\n",
        "_, ACCURACY['baseline Keras model'] = baseline_model.evaluate(test_images, test_labels)"
      ],
      "execution_count": 7,
      "outputs": [
        {
          "output_type": "stream",
          "name": "stdout",
          "text": [
            "313/313 [==============================] - 3s 8ms/step - loss: 0.1409 - accuracy: 0.9579\n"
          ]
        }
      ]
    },
    {
      "cell_type": "markdown",
      "metadata": {
        "id": "aAfbP3uua6bE"
      },
      "source": [
        "Next, you will save the Keras model as a file and record its size as well."
      ]
    },
    {
      "cell_type": "code",
      "metadata": {
        "id": "_A8WPjzqLbH3",
        "colab": {
          "base_uri": "https://localhost:8080/"
        },
        "outputId": "c140c40c-1989-4a8e-f231-296c71b0d3a3"
      },
      "source": [
        "# Save the Keras model\n",
        "baseline_model.save(FILE_NON_QUANTIZED_H5, include_optimizer=False)\n",
        "\n",
        "# Save and get the model size\n",
        "MODEL_SIZE['baseline h5'] = os.path.getsize(FILE_NON_QUANTIZED_H5)\n",
        "\n",
        "# Print records so far\n",
        "print_metric(ACCURACY, \"test accuracy\")\n",
        "print_metric(MODEL_SIZE, \"model size in bytes\")"
      ],
      "execution_count": 8,
      "outputs": [
        {
          "output_type": "stream",
          "name": "stdout",
          "text": [
            "test accuracy for baseline Keras model: 0.9578999876976013\n",
            "model size in bytes for baseline h5: 98968\n"
          ]
        },
        {
          "output_type": "stream",
          "name": "stderr",
          "text": [
            "/usr/local/lib/python3.10/dist-packages/keras/src/engine/training.py:3079: UserWarning: You are saving your model as an HDF5 file via `model.save()`. This file format is considered legacy. We recommend using instead the native Keras format, e.g. `model.save('my_model.keras')`.\n",
            "  saving_api.save_model(\n"
          ]
        }
      ]
    },
    {
      "cell_type": "markdown",
      "metadata": {
        "id": "Ak8rBX-qX_KM"
      },
      "source": [
        "### Convert the model to TF Lite format"
      ]
    },
    {
      "cell_type": "markdown",
      "metadata": {
        "id": "PpkXpDy_OCzB"
      },
      "source": [
        "Next, you will convert the model to [Tensorflow Lite (TF Lite)](https://www.tensorflow.org/lite/guide) format. This is designed to make Tensorflow models more efficient and lightweight when running on mobile, embedded, and IOT devices.\n",
        "\n",
        "You can convert a Keras model with TF Lite's [Converter](https://www.tensorflow.org/lite/convert/index) class and we've incorporated it in the short helper function below. Notice that there is a `quantize` flag which you can use to quantize the model."
      ]
    },
    {
      "cell_type": "code",
      "metadata": {
        "id": "zQYM0A0SgCNS"
      },
      "source": [
        "def convert_tflite(model, filename, quantize=False):\n",
        "  '''\n",
        "  Converts the model to TF Lite format and writes to a file\n",
        "\n",
        "  Args:\n",
        "    model (Keras model) - model to convert to TF Lite\n",
        "    filename (string) - string to use when saving the file\n",
        "    quantize (bool) - flag to indicate quantization\n",
        "\n",
        "  Returns:\n",
        "    None\n",
        "  '''\n",
        "\n",
        "  # Initialize the converter\n",
        "  converter = tf.lite.TFLiteConverter.from_keras_model(model)\n",
        "\n",
        "  # Set for quantization if flag is set to True\n",
        "  if quantize:\n",
        "    converter.optimizations = [tf.lite.Optimize.DEFAULT]\n",
        "\n",
        "  # Convert the model\n",
        "  tflite_model = converter.convert()\n",
        "\n",
        "  # Save the model.\n",
        "  with open(filename, 'wb') as f:\n",
        "    f.write(tflite_model)"
      ],
      "execution_count": 9,
      "outputs": []
    },
    {
      "cell_type": "markdown",
      "metadata": {
        "id": "lQkC9plnP2pU"
      },
      "source": [
        "You will use the helper function to convert the Keras model then get its size and accuracy. Take note that this is *not yet* quantized."
      ]
    },
    {
      "cell_type": "code",
      "metadata": {
        "id": "5H61feiOZkcI"
      },
      "source": [
        "# Convert baseline model\n",
        "convert_tflite(baseline_model, FILE_NON_QUANTIZED_TFLITE)"
      ],
      "execution_count": 10,
      "outputs": []
    },
    {
      "cell_type": "markdown",
      "metadata": {
        "id": "REf-EaQlQoYZ"
      },
      "source": [
        "You will notice that there is already a slight decrease in model size when converting to `.tflite` format."
      ]
    },
    {
      "cell_type": "code",
      "metadata": {
        "id": "cmlNGwbCBo8v",
        "colab": {
          "base_uri": "https://localhost:8080/"
        },
        "outputId": "637e98f3-1402-4f6f-ea58-9d6a23cb3708"
      },
      "source": [
        "MODEL_SIZE['non quantized tflite'] = os.path.getsize(FILE_NON_QUANTIZED_TFLITE)\n",
        "\n",
        "print_metric(MODEL_SIZE, 'model size in bytes')"
      ],
      "execution_count": 11,
      "outputs": [
        {
          "output_type": "stream",
          "name": "stdout",
          "text": [
            "model size in bytes for baseline h5: 98968\n",
            "model size in bytes for non quantized tflite: 85012\n"
          ]
        }
      ]
    },
    {
      "cell_type": "markdown",
      "metadata": {
        "id": "Rp-ndoNSRnvX"
      },
      "source": [
        "The accuracy will also be nearly identical when converting between formats. You can setup a TF Lite model for input-output using its [Interpreter](https://www.tensorflow.org/api_docs/python/tf/lite/Interpreter) class. This is shown in the `evaluate_tflite_model()` helper function provided in the `Utilities` section earlier.\n",
        "\n",
        "*Note: If you see a `Runtime Error: There is at least 1 reference to internal data in the interpreter in the form of a numpy array or slice.` , please try re-running the cell.*"
      ]
    },
    {
      "cell_type": "code",
      "metadata": {
        "id": "OQFkh5ukiiZE"
      },
      "source": [
        "ACCURACY['non quantized tflite'] = evaluate_tflite_model(FILE_NON_QUANTIZED_TFLITE, test_images, test_labels)"
      ],
      "execution_count": 12,
      "outputs": []
    },
    {
      "cell_type": "code",
      "metadata": {
        "id": "CplCOws3jaB0",
        "colab": {
          "base_uri": "https://localhost:8080/"
        },
        "outputId": "cca25504-8f67-43b2-c662-dc6f717b5ae0"
      },
      "source": [
        "print_metric(ACCURACY, 'test accuracy')"
      ],
      "execution_count": 13,
      "outputs": [
        {
          "output_type": "stream",
          "name": "stdout",
          "text": [
            "test accuracy for baseline Keras model: 0.9578999876976013\n",
            "test accuracy for non quantized tflite: 0.9579\n"
          ]
        }
      ]
    },
    {
      "cell_type": "markdown",
      "metadata": {
        "id": "N6ilHiSGYCFL"
      },
      "source": [
        "### Post-Training Quantization\n",
        "\n",
        "Now that you have the baseline metrics, you can now observe the effects of quantization. As mentioned in the lectures, this process involves converting floating point representations into integer to reduce model size and achieve faster computation.\n",
        "\n",
        "As shown in the `convert_tflite()` helper function earlier, you can easily do [post-training quantization](https://www.tensorflow.org/lite/performance/post_training_quantization) with the TF Lite API. You just need to set the converter optimization and assign an [Optimize](https://www.tensorflow.org/api_docs/python/tf/lite/Optimize) Enum.\n",
        "\n",
        "You will set the `quantize` flag to do that and get the metrics again."
      ]
    },
    {
      "cell_type": "code",
      "metadata": {
        "id": "DdWNTJ2J1OpL"
      },
      "source": [
        "# Convert and quantize the baseline model\n",
        "convert_tflite(baseline_model, FILE_PT_QUANTIZED, quantize=True)"
      ],
      "execution_count": 14,
      "outputs": []
    },
    {
      "cell_type": "code",
      "metadata": {
        "id": "cTFHf4Rw1bCJ",
        "colab": {
          "base_uri": "https://localhost:8080/"
        },
        "outputId": "5f6b28c7-4c95-4ba6-e55b-de6e6a583d6d"
      },
      "source": [
        "# Get the model size\n",
        "MODEL_SIZE['post training quantized tflite'] = os.path.getsize(FILE_PT_QUANTIZED)\n",
        "\n",
        "print_metric(MODEL_SIZE, 'model size')"
      ],
      "execution_count": 15,
      "outputs": [
        {
          "output_type": "stream",
          "name": "stdout",
          "text": [
            "model size for baseline h5: 98968\n",
            "model size for non quantized tflite: 85012\n",
            "model size for post training quantized tflite: 24256\n"
          ]
        }
      ]
    },
    {
      "cell_type": "markdown",
      "metadata": {
        "id": "SYcBZduWVqOH"
      },
      "source": [
        "You should see around a 4X reduction in model size in the quantized version. This comes from converting the 32 bit representations (float) into 8 bits (integer).\n",
        "\n"
      ]
    },
    {
      "cell_type": "code",
      "metadata": {
        "id": "vhEYoQ83-pT_"
      },
      "source": [
        "ACCURACY['post training quantized tflite'] = evaluate_tflite_model(FILE_PT_QUANTIZED, test_images, test_labels)"
      ],
      "execution_count": 16,
      "outputs": []
    },
    {
      "cell_type": "code",
      "metadata": {
        "id": "4D0Srsjb_inn",
        "colab": {
          "base_uri": "https://localhost:8080/"
        },
        "outputId": "83e70acd-9530-4d01-9144-945126310028"
      },
      "source": [
        "print_metric(ACCURACY, 'test accuracy')"
      ],
      "execution_count": 17,
      "outputs": [
        {
          "output_type": "stream",
          "name": "stdout",
          "text": [
            "test accuracy for baseline Keras model: 0.9578999876976013\n",
            "test accuracy for non quantized tflite: 0.9579\n",
            "test accuracy for post training quantized tflite: 0.9581\n"
          ]
        }
      ]
    },
    {
      "cell_type": "markdown",
      "metadata": {
        "id": "rGTzSOuQWG4L"
      },
      "source": [
        "As mentioned in the lecture, you can expect the accuracy to not be the same when quantizing the model. Most of the time it will decrease but in some cases, it can even increase. Again, this can be attributed to the loss of precision when you remove the extra bits from the float data."
      ]
    },
    {
      "cell_type": "markdown",
      "metadata": {
        "id": "vFf1DDVnYIes"
      },
      "source": [
        "## Quantization Aware Training"
      ]
    },
    {
      "cell_type": "markdown",
      "metadata": {
        "id": "37oAb7PuXK36"
      },
      "source": [
        "When post-training quantization results in loss of accuracy that is unacceptable for your application, you can consider doing [quantization aware training](https://www.tensorflow.org/model_optimization/guide/quantization/training) before quantizing the model. This simulates the loss of precision by inserting fake quant nodes in the model during training. That way, your model will learn to adapt with the loss of precision to get more accurate predictions.\n",
        "\n",
        "The [Tensorflow Model Optimization Toolkit](https://www.tensorflow.org/model_optimization) provides a [quantize_model()](https://www.tensorflow.org/model_optimization/api_docs/python/tfmot/quantization/keras/quantize_model) method to do this quickly and you will see that below. But first, let's install the toolkit into the notebook environment."
      ]
    },
    {
      "cell_type": "code",
      "metadata": {
        "id": "6WSt6OQGoNAt",
        "colab": {
          "base_uri": "https://localhost:8080/"
        },
        "outputId": "e793ea68-baae-4225-b5d2-6be64959eb5d"
      },
      "source": [
        "# Install the toolkit\n",
        "!pip install tensorflow_model_optimization"
      ],
      "execution_count": 18,
      "outputs": [
        {
          "output_type": "stream",
          "name": "stdout",
          "text": [
            "Collecting tensorflow_model_optimization\n",
            "  Downloading tensorflow_model_optimization-0.7.5-py2.py3-none-any.whl (241 kB)\n",
            "\u001b[2K     \u001b[90m━━━━━━━━━━━━━━━━━━━━━━━━━━━━━━━━━━━━━━━━\u001b[0m \u001b[32m241.2/241.2 kB\u001b[0m \u001b[31m2.7 MB/s\u001b[0m eta \u001b[36m0:00:00\u001b[0m\n",
            "\u001b[?25hRequirement already satisfied: absl-py~=1.2 in /usr/local/lib/python3.10/dist-packages (from tensorflow_model_optimization) (1.4.0)\n",
            "Requirement already satisfied: dm-tree~=0.1.1 in /usr/local/lib/python3.10/dist-packages (from tensorflow_model_optimization) (0.1.8)\n",
            "Requirement already satisfied: numpy~=1.23 in /usr/local/lib/python3.10/dist-packages (from tensorflow_model_optimization) (1.23.5)\n",
            "Requirement already satisfied: six~=1.14 in /usr/local/lib/python3.10/dist-packages (from tensorflow_model_optimization) (1.16.0)\n",
            "Installing collected packages: tensorflow_model_optimization\n",
            "Successfully installed tensorflow_model_optimization-0.7.5\n"
          ]
        }
      ]
    },
    {
      "cell_type": "markdown",
      "metadata": {
        "id": "oYHmeMihYjnB"
      },
      "source": [
        "You will build the baseline model again but this time, you will pass it into the `quantize_model()` method to indicate quantization aware training.\n",
        "\n",
        "Take note that in case you decide to pass in a model that is already trained, then make sure to recompile before you continue training."
      ]
    },
    {
      "cell_type": "code",
      "metadata": {
        "id": "3dGSpz0on2C4",
        "colab": {
          "base_uri": "https://localhost:8080/"
        },
        "outputId": "8670ef2e-2516-42aa-e338-9b7d0f28ad34"
      },
      "source": [
        "import tensorflow_model_optimization as tfmot\n",
        "\n",
        "# method to quantize a Keras model\n",
        "quantize_model = tfmot.quantization.keras.quantize_model\n",
        "\n",
        "# Define the model architecture.\n",
        "model_to_quantize = model_builder()\n",
        "\n",
        "# Reinitialize weights with saved file\n",
        "model_to_quantize.load_weights(FILE_WEIGHTS)\n",
        "\n",
        "# Quantize the model\n",
        "q_aware_model = quantize_model(model_to_quantize)\n",
        "\n",
        "# `quantize_model` requires a recompile.\n",
        "q_aware_model.compile(optimizer='adam',\n",
        "              loss='sparse_categorical_crossentropy',\n",
        "              metrics=['accuracy'])\n",
        "\n",
        "q_aware_model.summary()"
      ],
      "execution_count": 19,
      "outputs": [
        {
          "output_type": "stream",
          "name": "stdout",
          "text": [
            "Model: \"sequential_1\"\n",
            "_________________________________________________________________\n",
            " Layer (type)                Output Shape              Param #   \n",
            "=================================================================\n",
            " quantize_layer (QuantizeLa  (None, 28, 28)            3         \n",
            " yer)                                                            \n",
            "                                                                 \n",
            " quant_reshape_1 (QuantizeW  (None, 28, 28, 1)         1         \n",
            " rapperV2)                                                       \n",
            "                                                                 \n",
            " quant_conv2d_1 (QuantizeWr  (None, 26, 26, 12)        147       \n",
            " apperV2)                                                        \n",
            "                                                                 \n",
            " quant_max_pooling2d_1 (Qua  (None, 13, 13, 12)        1         \n",
            " ntizeWrapperV2)                                                 \n",
            "                                                                 \n",
            " quant_flatten_1 (QuantizeW  (None, 2028)              1         \n",
            " rapperV2)                                                       \n",
            "                                                                 \n",
            " quant_dense_1 (QuantizeWra  (None, 10)                20295     \n",
            " pperV2)                                                         \n",
            "                                                                 \n",
            "=================================================================\n",
            "Total params: 20448 (79.88 KB)\n",
            "Trainable params: 20410 (79.73 KB)\n",
            "Non-trainable params: 38 (152.00 Byte)\n",
            "_________________________________________________________________\n"
          ]
        }
      ]
    },
    {
      "cell_type": "markdown",
      "metadata": {
        "id": "lmcaLaotZ7G7"
      },
      "source": [
        "You may have noticed a slight difference in the model summary above compared to the baseline model summary in the earlier sections. The total params count increased as expected because of the nodes added by the `quantize_model()` method.\n",
        "\n",
        "With that, you can now train the model. You will notice that the accuracy is a bit lower because the model is simulating the loss of precision. The training will take a bit longer if you want to achieve the same training accuracy as the earlier run. For this exercise though, we will keep to 1 epoch."
      ]
    },
    {
      "cell_type": "code",
      "metadata": {
        "id": "yl4jbjllomDw",
        "colab": {
          "base_uri": "https://localhost:8080/"
        },
        "outputId": "bd8b0ee5-7a6a-412f-fbb1-e563c6dc68b5"
      },
      "source": [
        "# Train the model\n",
        "q_aware_model.fit(train_images, train_labels, epochs=1, shuffle=False)"
      ],
      "execution_count": 20,
      "outputs": [
        {
          "output_type": "stream",
          "name": "stdout",
          "text": [
            "1875/1875 [==============================] - 25s 13ms/step - loss: 0.2772 - accuracy: 0.9222\n"
          ]
        },
        {
          "output_type": "execute_result",
          "data": {
            "text/plain": [
              "<keras.src.callbacks.History at 0x78a0e5016020>"
            ]
          },
          "metadata": {},
          "execution_count": 20
        }
      ]
    },
    {
      "cell_type": "markdown",
      "metadata": {
        "id": "b_WAM2C4bWeC"
      },
      "source": [
        "You can then get the accuracy of the Keras model before and after quantizing the model. The accuracy is expected to be nearly identical because the model is trained to counter the effects of quantization."
      ]
    },
    {
      "cell_type": "code",
      "metadata": {
        "id": "J7rOuwM_ozI_",
        "colab": {
          "base_uri": "https://localhost:8080/"
        },
        "outputId": "57cb4aee-7118-4b47-e818-d77dc149e7b8"
      },
      "source": [
        "# Reinitialize the dictionary\n",
        "ACCURACY = {}\n",
        "\n",
        "# Get the accuracy of the quantization aware trained model (not yet quantized)\n",
        "_, ACCURACY['quantization aware non-quantized'] = q_aware_model.evaluate(test_images, test_labels, verbose=0)\n",
        "print_metric(ACCURACY, 'test accuracy')"
      ],
      "execution_count": 21,
      "outputs": [
        {
          "output_type": "stream",
          "name": "stdout",
          "text": [
            "test accuracy for quantization aware non-quantized: 0.9584000110626221\n"
          ]
        }
      ]
    },
    {
      "cell_type": "code",
      "metadata": {
        "id": "6liE_Cp3rzAy",
        "colab": {
          "base_uri": "https://localhost:8080/"
        },
        "outputId": "2831019c-db56-44fe-c3b3-d22102f02149"
      },
      "source": [
        "# Convert and quantize the model.\n",
        "convert_tflite(q_aware_model, FILE_QAT_QUANTIZED, quantize=True)\n",
        "\n",
        "# Get the accuracy of the quantized model\n",
        "ACCURACY['quantization aware quantized'] = evaluate_tflite_model(FILE_QAT_QUANTIZED, test_images, test_labels)\n",
        "print_metric(ACCURACY, 'test accuracy')"
      ],
      "execution_count": 22,
      "outputs": [
        {
          "output_type": "stream",
          "name": "stderr",
          "text": [
            "/usr/local/lib/python3.10/dist-packages/tensorflow/lite/python/convert.py:947: UserWarning: Statistics for quantized inputs were expected, but not specified; continuing anyway.\n",
            "  warnings.warn(\n"
          ]
        },
        {
          "output_type": "stream",
          "name": "stdout",
          "text": [
            "test accuracy for quantization aware non-quantized: 0.9584000110626221\n",
            "test accuracy for quantization aware quantized: 0.9585\n"
          ]
        }
      ]
    },
    {
      "cell_type": "markdown",
      "metadata": {
        "id": "SwvaMflTYNgo"
      },
      "source": [
        "## Pruning\n",
        "\n",
        "Let's now move on to another technique for reducing model size: [Pruning](https://www.tensorflow.org/model_optimization/guide/pruning/pruning_with_keras). This process involves zeroing out insignificant (i.e. low magnitude) weights. The intuition is these weights do not contribute as much to making predictions so you can remove them and get the same result. Making the weights sparse helps in compressing the model more efficiently and you will see that in this section."
      ]
    },
    {
      "cell_type": "markdown",
      "metadata": {
        "id": "LdlFujrJbzV7"
      },
      "source": [
        "The Tensorflow Model Optimization Toolkit again has a convenience method for this. The [prune_low_magnitude()](https://www.tensorflow.org/model_optimization/api_docs/python/tfmot/sparsity/keras/prune_low_magnitude) method puts wrappers in a Keras model so it can be pruned during training. You will pass in the baseline model that you already trained earlier. You will notice that the model summary show increased params because of the wrapper layers added by the pruning method.\n",
        "\n",
        "You can set how the pruning is done during training. Below, you will use [PolynomialDecay](https://www.tensorflow.org/model_optimization/api_docs/python/tfmot/sparsity/keras/PolynomialDecay) to indicate how the sparsity ramps up with each step. Another option available in the library is [Constant Sparsity](https://www.tensorflow.org/model_optimization/api_docs/python/tfmot/sparsity/keras/ConstantSparsity)."
      ]
    },
    {
      "cell_type": "code",
      "metadata": {
        "id": "TpqizJsKYPBA",
        "colab": {
          "base_uri": "https://localhost:8080/"
        },
        "outputId": "eac0f9c1-2a95-40c9-bc67-80d557fd56ac"
      },
      "source": [
        "# Get the pruning method\n",
        "prune_low_magnitude = tfmot.sparsity.keras.prune_low_magnitude\n",
        "\n",
        "# Compute end step to finish pruning after 2 epochs.\n",
        "batch_size = 128\n",
        "epochs = 2\n",
        "validation_split = 0.1 # 10% of training set will be used for validation set.\n",
        "\n",
        "num_images = train_images.shape[0] * (1 - validation_split)\n",
        "end_step = np.ceil(num_images / batch_size).astype(np.int32) * epochs\n",
        "\n",
        "# Define pruning schedule.\n",
        "pruning_params = {\n",
        "      'pruning_schedule': tfmot.sparsity.keras.PolynomialDecay(initial_sparsity=0.50,\n",
        "                                                               final_sparsity=0.80,\n",
        "                                                               begin_step=0,\n",
        "                                                               end_step=end_step)\n",
        "}\n",
        "\n",
        "# Pass in the trained baseline model\n",
        "model_for_pruning = prune_low_magnitude(baseline_model, **pruning_params)\n",
        "\n",
        "# `prune_low_magnitude` requires a recompile.\n",
        "model_for_pruning.compile(optimizer='adam',\n",
        "              loss='sparse_categorical_crossentropy',\n",
        "              metrics=['accuracy'])\n",
        "\n",
        "model_for_pruning.summary()"
      ],
      "execution_count": 23,
      "outputs": [
        {
          "output_type": "stream",
          "name": "stdout",
          "text": [
            "Model: \"sequential\"\n",
            "_________________________________________________________________\n",
            " Layer (type)                Output Shape              Param #   \n",
            "=================================================================\n",
            " prune_low_magnitude_reshap  (None, 28, 28, 1)         1         \n",
            " e (PruneLowMagnitude)                                           \n",
            "                                                                 \n",
            " prune_low_magnitude_conv2d  (None, 26, 26, 12)        230       \n",
            "  (PruneLowMagnitude)                                            \n",
            "                                                                 \n",
            " prune_low_magnitude_max_po  (None, 13, 13, 12)        1         \n",
            " oling2d (PruneLowMagnitude                                      \n",
            " )                                                               \n",
            "                                                                 \n",
            " prune_low_magnitude_flatte  (None, 2028)              1         \n",
            " n (PruneLowMagnitude)                                           \n",
            "                                                                 \n",
            " prune_low_magnitude_dense   (None, 10)                40572     \n",
            " (PruneLowMagnitude)                                             \n",
            "                                                                 \n",
            "=================================================================\n",
            "Total params: 40805 (159.41 KB)\n",
            "Trainable params: 20410 (79.73 KB)\n",
            "Non-trainable params: 20395 (79.69 KB)\n",
            "_________________________________________________________________\n"
          ]
        }
      ]
    },
    {
      "cell_type": "markdown",
      "metadata": {
        "id": "qgmHaZI6fip_"
      },
      "source": [
        "You can also peek at the weights of one of the layers in your model. After pruning, you will notice that many of these will be zeroed out."
      ]
    },
    {
      "cell_type": "code",
      "metadata": {
        "id": "y5ekdEBigB5l",
        "colab": {
          "base_uri": "https://localhost:8080/"
        },
        "outputId": "5c45d0fc-446a-4663-91fa-58494555f324"
      },
      "source": [
        "# Preview model weights\n",
        "model_for_pruning.weights[1]"
      ],
      "execution_count": 24,
      "outputs": [
        {
          "output_type": "execute_result",
          "data": {
            "text/plain": [
              "<tf.Variable 'conv2d/kernel:0' shape=(3, 3, 1, 12) dtype=float32, numpy=\n",
              "array([[[[ 0.02862377,  0.22252876,  0.1021717 , -0.04615076,\n",
              "           0.0999748 ,  0.14006945,  0.19871202, -0.4045384 ,\n",
              "          -0.52453434,  0.16404639,  0.0349885 , -0.576365  ]],\n",
              "\n",
              "        [[ 0.02516347,  0.21006024, -0.01404458, -0.02381683,\n",
              "           0.15692548,  0.09188826,  0.28860772, -0.7615633 ,\n",
              "          -0.4977255 ,  0.5794558 ,  0.28986734,  0.21828191]],\n",
              "\n",
              "        [[ 0.3013081 ,  0.22591174,  0.16747941,  0.19683662,\n",
              "           0.04231348, -0.23269218, -0.10288966, -0.54185677,\n",
              "          -0.40583795,  0.59567577,  0.16516575,  0.29477435]]],\n",
              "\n",
              "\n",
              "       [[[ 0.20437516, -0.12986532,  0.28686494,  0.06631988,\n",
              "          -0.1487274 , -0.01476031, -0.11864081,  0.11869426,\n",
              "           0.06436949,  0.03723016,  0.03486474, -0.75398207]],\n",
              "\n",
              "        [[ 0.03945372,  0.2795178 , -0.10106947, -0.04112682,\n",
              "           0.2763072 ,  0.27948213,  0.31940278,  0.14178573,\n",
              "          -0.14907806,  0.1351455 ,  0.24826193,  0.2204149 ]],\n",
              "\n",
              "        [[ 0.0807793 ,  0.0579643 , -0.3109821 ,  0.19308639,\n",
              "           0.2942898 , -0.15482497,  0.30219692,  0.05620058,\n",
              "          -0.40107453,  0.2613535 , -0.09933788,  0.44771537]]],\n",
              "\n",
              "\n",
              "       [[[ 0.18173456,  0.06786978,  0.39482123,  0.14714147,\n",
              "          -0.00199371, -0.19932768, -0.3438184 ,  0.28155693,\n",
              "           0.34040642, -0.82788306,  0.2427209 , -0.4265672 ]],\n",
              "\n",
              "        [[ 0.26838082,  0.19633925,  0.01742688,  0.15452787,\n",
              "           0.07033427,  0.27183238, -0.1217849 ,  0.5512469 ,\n",
              "           0.5166787 , -0.79664147,  0.25913638, -0.06959692]],\n",
              "\n",
              "        [[-0.01297385,  0.18991037, -0.4742738 ,  0.13125302,\n",
              "           0.27624232,  0.2847696 ,  0.30648604,  0.2847316 ,\n",
              "           0.26940128, -0.45004946, -0.28797945,  0.36709374]]]],\n",
              "      dtype=float32)>"
            ]
          },
          "metadata": {},
          "execution_count": 24
        }
      ]
    },
    {
      "cell_type": "markdown",
      "metadata": {
        "id": "0XFwMRqpgbr0"
      },
      "source": [
        "With that, you can now start re-training the model. Take note that the [UpdatePruningStep()](https://www.tensorflow.org/model_optimization/api_docs/python/tfmot/sparsity/keras/UpdatePruningStep) callback is required."
      ]
    },
    {
      "cell_type": "code",
      "metadata": {
        "id": "DUCz6PL371Bx",
        "colab": {
          "base_uri": "https://localhost:8080/"
        },
        "outputId": "adeb1e45-d7c8-44f2-9503-95acbefff638"
      },
      "source": [
        "# Callback to update pruning wrappers at each step\n",
        "callbacks = [\n",
        "  tfmot.sparsity.keras.UpdatePruningStep(),\n",
        "]\n",
        "\n",
        "# Train and prune the model\n",
        "model_for_pruning.fit(train_images, train_labels,\n",
        "                  epochs=epochs, validation_split=validation_split,\n",
        "                  callbacks=callbacks)"
      ],
      "execution_count": 25,
      "outputs": [
        {
          "output_type": "stream",
          "name": "stdout",
          "text": [
            "Epoch 1/2\n",
            "1688/1688 [==============================] - 23s 12ms/step - loss: 0.1558 - accuracy: 0.9579 - val_loss: 0.1029 - val_accuracy: 0.9725\n",
            "Epoch 2/2\n",
            "1688/1688 [==============================] - 21s 13ms/step - loss: 0.1177 - accuracy: 0.9661 - val_loss: 0.0942 - val_accuracy: 0.9743\n"
          ]
        },
        {
          "output_type": "execute_result",
          "data": {
            "text/plain": [
              "<keras.src.callbacks.History at 0x78a0ca156050>"
            ]
          },
          "metadata": {},
          "execution_count": 25
        }
      ]
    },
    {
      "cell_type": "markdown",
      "metadata": {
        "id": "rEExgy4hhXP-"
      },
      "source": [
        "Now see how the weights in the same layer looks like after pruning."
      ]
    },
    {
      "cell_type": "code",
      "metadata": {
        "id": "TOK4TidJhXpT",
        "colab": {
          "base_uri": "https://localhost:8080/"
        },
        "outputId": "486f764a-423c-49d9-9651-1737bbf1cfeb"
      },
      "source": [
        "# Preview model weights\n",
        "model_for_pruning.weights[1]"
      ],
      "execution_count": 26,
      "outputs": [
        {
          "output_type": "execute_result",
          "data": {
            "text/plain": [
              "<tf.Variable 'conv2d/kernel:0' shape=(3, 3, 1, 12) dtype=float32, numpy=\n",
              "array([[[[ 0.        ,  0.        , -0.        , -0.        ,\n",
              "           0.        ,  0.        ,  0.        ,  0.        ,\n",
              "          -0.7974205 ,  0.        ,  0.        , -0.45039403]],\n",
              "\n",
              "        [[ 0.        ,  0.        , -0.        , -0.        ,\n",
              "           0.        ,  0.        ,  0.        , -1.0811347 ,\n",
              "          -0.7769968 ,  1.0460571 ,  0.8001932 ,  0.        ]],\n",
              "\n",
              "        [[ 0.        ,  0.        , -0.        , -0.        ,\n",
              "           0.        ,  0.        ,  0.        , -0.41007268,\n",
              "          -0.98458743,  0.94073045,  0.        ,  0.        ]]],\n",
              "\n",
              "\n",
              "       [[[ 0.        ,  0.        , -0.        , -0.        ,\n",
              "           0.        ,  0.        ,  0.        ,  0.        ,\n",
              "           0.        ,  0.        ,  0.        , -1.0118068 ]],\n",
              "\n",
              "        [[ 0.        ,  0.        , -0.        , -0.        ,\n",
              "           0.7448311 ,  0.        ,  0.7511294 , -0.        ,\n",
              "          -0.        ,  0.        ,  0.        ,  0.        ]],\n",
              "\n",
              "        [[ 0.        ,  0.        , -0.        , -0.        ,\n",
              "           0.7922788 ,  0.        ,  0.        , -0.        ,\n",
              "          -0.        ,  0.        ,  0.        ,  0.9563107 ]]],\n",
              "\n",
              "\n",
              "       [[[ 0.        ,  0.        ,  0.8639524 , -0.        ,\n",
              "           0.        ,  0.        ,  0.        ,  0.        ,\n",
              "          -0.        , -1.1104407 ,  0.        , -0.80365825]],\n",
              "\n",
              "        [[ 0.        ,  0.        , -0.        , -0.        ,\n",
              "           0.        ,  0.        ,  0.        ,  1.137131  ,\n",
              "           0.8991285 , -1.3363267 ,  0.        ,  0.        ]],\n",
              "\n",
              "        [[ 0.        ,  0.        , -0.85040784, -0.        ,\n",
              "           0.        ,  0.        ,  0.        , -0.        ,\n",
              "          -0.        ,  0.        , -0.        ,  0.7099172 ]]]],\n",
              "      dtype=float32)>"
            ]
          },
          "metadata": {},
          "execution_count": 26
        }
      ]
    },
    {
      "cell_type": "markdown",
      "metadata": {
        "id": "o5ckfDHLhhub"
      },
      "source": [
        "After pruning, you can remove the wrapper layers to have the same layers and params as the baseline model. You can do that with the [strip_pruning()](https://www.tensorflow.org/model_optimization/api_docs/python/tfmot/sparsity/keras/strip_pruning) method as shown below. You will do this so you can save the model and also export to TF Lite format just like in the previous sections."
      ]
    },
    {
      "cell_type": "code",
      "metadata": {
        "id": "PbfLhZv68vwc",
        "colab": {
          "base_uri": "https://localhost:8080/"
        },
        "outputId": "94eb7658-5a27-4c6b-b79a-0e0208b2d65a"
      },
      "source": [
        "# Remove pruning wrappers\n",
        "model_for_export = tfmot.sparsity.keras.strip_pruning(model_for_pruning)\n",
        "model_for_export.summary()"
      ],
      "execution_count": 27,
      "outputs": [
        {
          "output_type": "stream",
          "name": "stdout",
          "text": [
            "Model: \"sequential\"\n",
            "_________________________________________________________________\n",
            " Layer (type)                Output Shape              Param #   \n",
            "=================================================================\n",
            " reshape (Reshape)           (None, 28, 28, 1)         0         \n",
            "                                                                 \n",
            " conv2d (Conv2D)             (None, 26, 26, 12)        120       \n",
            "                                                                 \n",
            " max_pooling2d (MaxPooling2  (None, 13, 13, 12)        0         \n",
            " D)                                                              \n",
            "                                                                 \n",
            " flatten (Flatten)           (None, 2028)              0         \n",
            "                                                                 \n",
            " dense (Dense)               (None, 10)                20290     \n",
            "                                                                 \n",
            "=================================================================\n",
            "Total params: 20410 (79.73 KB)\n",
            "Trainable params: 20410 (79.73 KB)\n",
            "Non-trainable params: 0 (0.00 Byte)\n",
            "_________________________________________________________________\n"
          ]
        }
      ]
    },
    {
      "cell_type": "markdown",
      "metadata": {
        "id": "KtbPlo-kj9Ku"
      },
      "source": [
        "You will see the same model weights but the index is different because the wrappers were removed."
      ]
    },
    {
      "cell_type": "code",
      "metadata": {
        "id": "SG6-aF9yiraG",
        "colab": {
          "base_uri": "https://localhost:8080/"
        },
        "outputId": "c441aae7-a308-403b-aab2-ef2369477812"
      },
      "source": [
        "# Preview model weights (index 1 earlier is now 0 because pruning wrappers were removed)\n",
        "model_for_export.weights[0]"
      ],
      "execution_count": 28,
      "outputs": [
        {
          "output_type": "execute_result",
          "data": {
            "text/plain": [
              "<tf.Variable 'conv2d/kernel:0' shape=(3, 3, 1, 12) dtype=float32, numpy=\n",
              "array([[[[ 0.        ,  0.        , -0.        , -0.        ,\n",
              "           0.        ,  0.        ,  0.        ,  0.        ,\n",
              "          -0.7974205 ,  0.        ,  0.        , -0.45039403]],\n",
              "\n",
              "        [[ 0.        ,  0.        , -0.        , -0.        ,\n",
              "           0.        ,  0.        ,  0.        , -1.0811347 ,\n",
              "          -0.7769968 ,  1.0460571 ,  0.8001932 ,  0.        ]],\n",
              "\n",
              "        [[ 0.        ,  0.        , -0.        , -0.        ,\n",
              "           0.        ,  0.        ,  0.        , -0.41007268,\n",
              "          -0.98458743,  0.94073045,  0.        ,  0.        ]]],\n",
              "\n",
              "\n",
              "       [[[ 0.        ,  0.        , -0.        , -0.        ,\n",
              "           0.        ,  0.        ,  0.        ,  0.        ,\n",
              "           0.        ,  0.        ,  0.        , -1.0118068 ]],\n",
              "\n",
              "        [[ 0.        ,  0.        , -0.        , -0.        ,\n",
              "           0.7448311 ,  0.        ,  0.7511294 , -0.        ,\n",
              "          -0.        ,  0.        ,  0.        ,  0.        ]],\n",
              "\n",
              "        [[ 0.        ,  0.        , -0.        , -0.        ,\n",
              "           0.7922788 ,  0.        ,  0.        , -0.        ,\n",
              "          -0.        ,  0.        ,  0.        ,  0.9563107 ]]],\n",
              "\n",
              "\n",
              "       [[[ 0.        ,  0.        ,  0.8639524 , -0.        ,\n",
              "           0.        ,  0.        ,  0.        ,  0.        ,\n",
              "          -0.        , -1.1104407 ,  0.        , -0.80365825]],\n",
              "\n",
              "        [[ 0.        ,  0.        , -0.        , -0.        ,\n",
              "           0.        ,  0.        ,  0.        ,  1.137131  ,\n",
              "           0.8991285 , -1.3363267 ,  0.        ,  0.        ]],\n",
              "\n",
              "        [[ 0.        ,  0.        , -0.85040784, -0.        ,\n",
              "           0.        ,  0.        ,  0.        , -0.        ,\n",
              "          -0.        ,  0.        , -0.        ,  0.7099172 ]]]],\n",
              "      dtype=float32)>"
            ]
          },
          "metadata": {},
          "execution_count": 28
        }
      ]
    },
    {
      "cell_type": "markdown",
      "metadata": {
        "id": "ZR94MYxLkHfn"
      },
      "source": [
        "You will notice below that the pruned model will have the same file size as the baseline_model when saved as H5. This is to be expected. The improvement will be noticeable when you compress the model as will be shown in the cell after this."
      ]
    },
    {
      "cell_type": "code",
      "metadata": {
        "id": "CjjDMqJCTjqz",
        "colab": {
          "base_uri": "https://localhost:8080/"
        },
        "outputId": "d94f1151-dcda-41e7-d174-e3c9f2986511"
      },
      "source": [
        "# Save Keras model\n",
        "model_for_export.save(FILE_PRUNED_MODEL_H5, include_optimizer=False)\n",
        "\n",
        "# Get uncompressed model size of baseline and pruned models\n",
        "MODEL_SIZE = {}\n",
        "MODEL_SIZE['baseline h5'] = os.path.getsize(FILE_NON_QUANTIZED_H5)\n",
        "MODEL_SIZE['pruned non quantized h5'] = os.path.getsize(FILE_PRUNED_MODEL_H5)\n",
        "\n",
        "print_metric(MODEL_SIZE, 'model_size in bytes')"
      ],
      "execution_count": 29,
      "outputs": [
        {
          "output_type": "stream",
          "name": "stderr",
          "text": [
            "/usr/local/lib/python3.10/dist-packages/keras/src/engine/training.py:3079: UserWarning: You are saving your model as an HDF5 file via `model.save()`. This file format is considered legacy. We recommend using instead the native Keras format, e.g. `model.save('my_model.keras')`.\n",
            "  saving_api.save_model(\n",
            "WARNING:tensorflow:Compiled the loaded model, but the compiled metrics have yet to be built. `model.compile_metrics` will be empty until you train or evaluate the model.\n"
          ]
        },
        {
          "output_type": "stream",
          "name": "stdout",
          "text": [
            "model_size in bytes for baseline h5: 98968\n",
            "model_size in bytes for pruned non quantized h5: 98968\n"
          ]
        }
      ]
    },
    {
      "cell_type": "markdown",
      "metadata": {
        "id": "tCEfa-LRleT_"
      },
      "source": [
        "You will use the `get_gzipped_model_size()` helper function in the `Utilities` to compress the models and get its resulting file size. You will notice that the pruned model is about 3 times smaller. This is because of the sparse weights generated by the pruning process. The zeros can be compressed much more efficiently than the low magnitude weights before pruning."
      ]
    },
    {
      "cell_type": "code",
      "metadata": {
        "id": "VWQ_AgiX_yiP",
        "colab": {
          "base_uri": "https://localhost:8080/"
        },
        "outputId": "d39a7d5a-8c59-4859-b4dd-d49139bbcb46"
      },
      "source": [
        "# Get compressed size of baseline and pruned models\n",
        "MODEL_SIZE = {}\n",
        "MODEL_SIZE['baseline h5'] = get_gzipped_model_size(FILE_NON_QUANTIZED_H5)\n",
        "MODEL_SIZE['pruned non quantized h5'] = get_gzipped_model_size(FILE_PRUNED_MODEL_H5)\n",
        "\n",
        "print_metric(MODEL_SIZE, \"gzipped model size in bytes\")"
      ],
      "execution_count": 30,
      "outputs": [
        {
          "output_type": "stream",
          "name": "stdout",
          "text": [
            "gzipped model size in bytes for baseline h5: 78075\n",
            "gzipped model size in bytes for pruned non quantized h5: 25883\n"
          ]
        }
      ]
    },
    {
      "cell_type": "markdown",
      "metadata": {
        "id": "uByyx0L3mlYc"
      },
      "source": [
        "You can make the model even more lightweight by quantizing the pruned model. This achieves around 10X reduction in compressed model size as compared to the baseline."
      ]
    },
    {
      "cell_type": "code",
      "metadata": {
        "id": "qIY6n9XWCvt5",
        "colab": {
          "base_uri": "https://localhost:8080/"
        },
        "outputId": "f4c31c9b-2f43-456a-e162-230b5842420a"
      },
      "source": [
        "# Convert and quantize the pruned model.\n",
        "pruned_quantized_tflite = convert_tflite(model_for_export, FILE_PRUNED_QUANTIZED_TFLITE, quantize=True)\n",
        "\n",
        "# Compress and get the model size\n",
        "MODEL_SIZE['pruned quantized tflite'] = get_gzipped_model_size(FILE_PRUNED_QUANTIZED_TFLITE)\n",
        "print_metric(MODEL_SIZE, \"gzipped model size in bytes\")"
      ],
      "execution_count": 31,
      "outputs": [
        {
          "output_type": "stream",
          "name": "stdout",
          "text": [
            "gzipped model size in bytes for baseline h5: 78075\n",
            "gzipped model size in bytes for pruned non quantized h5: 25883\n",
            "gzipped model size in bytes for pruned quantized tflite: 8192\n"
          ]
        }
      ]
    },
    {
      "cell_type": "markdown",
      "metadata": {
        "id": "v4ytiH3ynIid"
      },
      "source": [
        "As expected, the TF Lite model's accuracy will also be close to the Keras model."
      ]
    },
    {
      "cell_type": "code",
      "metadata": {
        "id": "PZBAdJmuWN0A",
        "colab": {
          "base_uri": "https://localhost:8080/"
        },
        "outputId": "f8ab8b2d-4e68-45a5-c4c5-6ba9658a9c9d"
      },
      "source": [
        "# Get accuracy of pruned Keras and TF Lite models\n",
        "ACCURACY = {}\n",
        "\n",
        "_, ACCURACY['pruned model h5'] = model_for_pruning.evaluate(test_images, test_labels)\n",
        "ACCURACY['pruned and quantized tflite'] = evaluate_tflite_model(FILE_PRUNED_QUANTIZED_TFLITE, test_images, test_labels)\n",
        "\n",
        "print_metric(ACCURACY, 'accuracy')"
      ],
      "execution_count": 32,
      "outputs": [
        {
          "output_type": "stream",
          "name": "stdout",
          "text": [
            "313/313 [==============================] - 2s 5ms/step - loss: 0.1058 - accuracy: 0.9676\n",
            "accuracy for pruned model h5: 0.9675999879837036\n",
            "accuracy for pruned and quantized tflite: 0.9673\n"
          ]
        }
      ]
    },
    {
      "cell_type": "markdown",
      "metadata": {
        "id": "CpM7t_nGokcz"
      },
      "source": [
        "## Wrap Up\n",
        "\n",
        "In this notebook, you practiced several techniques in optimizing your models for mobile and embedded applications. You used quantization to reduce floating point representations into integer, then used pruning to make the weights sparse for efficient model compression. These make your models lightweight for efficient transport and storage without sacrificing model accuracy. Try this in your own models and see what performance you get. For more information, here are a few other resources:\n",
        "\n",
        "* [Post Training Quantization Guide](https://www.tensorflow.org/lite/performance/post_training_quantization)\n",
        "* [Quantization Aware Training Comprehensive Guide](https://www.tensorflow.org/model_optimization/guide/quantization/training_comprehensive_guide)\n",
        "* [Pruning Comprehensive Guide](https://www.tensorflow.org/model_optimization/guide/pruning/comprehensive_guide)\n",
        "\n",
        "**Congratulations and enjoy the rest of the course!**"
      ]
    }
  ]
}